{
 "cells": [
  {
   "cell_type": "markdown",
   "id": "306a4af4-3aa7-44d2-9136-368046770910",
   "metadata": {},
   "source": [
    "# Data Science Tools and Ecosystem"
   ]
  },
  {
   "cell_type": "markdown",
   "id": "03369270-8cad-4c96-aa4b-c0f05f6dd2d9",
   "metadata": {
    "tags": []
   },
   "source": [
    "In this notebook, Data Science Tools and Ecosystem are summarized."
   ]
  },
  {
   "cell_type": "markdown",
   "id": "8637a6a6-7f6f-4d2e-9a7c-d12ad3ff2228",
   "metadata": {},
   "source": [
    "Some of the popular languages that Data Scientists use are:"
   ]
  },
  {
   "cell_type": "markdown",
   "id": "e662d8ad-cbc4-4094-a4d4-9042a34a8e3e",
   "metadata": {},
   "source": [
    "1. Java\n",
    "1. Python\n",
    "1. C++\n",
    "1. JavaScript\n",
    "1. Scala\n",
    "1. SQL\n",
    "1. C\n",
    "1. R"
   ]
  },
  {
   "cell_type": "markdown",
   "id": "649f4eb8-3164-4b08-8267-ebcf96159fc3",
   "metadata": {},
   "source": [
    "Some of the commonly used libraries used by Data Scientists include:"
   ]
  },
  {
   "cell_type": "markdown",
   "id": "70b4f6a0-19ed-4811-a35e-9a8ffd3d5fb6",
   "metadata": {},
   "source": [
    "- TensorFlow\n",
    "- PyTorch\n",
    "- scikit-learn\n",
    "- MySQL"
   ]
  },
  {
   "cell_type": "markdown",
   "id": "fbdc8c28-0995-4db1-b024-e2727051cda0",
   "metadata": {},
   "source": [
    "| Number | Data Science Tools|\n",
    "|-|-|\n",
    "| 1 | Apache Spark |\n",
    "| 2 | Tableau |\n",
    "| 3 | RStudio | \n",
    "| 4 | JupyterLabs |"
   ]
  },
  {
   "cell_type": "markdown",
   "id": "ab1fc4d0-1f1f-4c61-925d-970fbd8a6a01",
   "metadata": {},
   "source": [
    "This is an example of arithmetic expressions:"
   ]
  },
  {
   "cell_type": "code",
   "execution_count": 21,
   "id": "25b91a20-f40d-48ce-bc4a-9d8ed7f3b9aa",
   "metadata": {},
   "outputs": [
    {
     "name": "stdout",
     "output_type": "stream",
     "text": [
      "10\n"
     ]
    }
   ],
   "source": [
    "x = 1\n",
    "y = 7\n",
    "z = x*3+y\n",
    "print(z)"
   ]
  },
  {
   "cell_type": "code",
   "execution_count": 31,
   "id": "c45b5981-b016-45ad-84cc-c1dfc5012f50",
   "metadata": {},
   "outputs": [
    {
     "name": "stdout",
     "output_type": "stream",
     "text": [
      "3:33:00\n"
     ]
    }
   ],
   "source": [
    "def convert(seconds):\n",
    "    seconds = seconds % (24 * 3600)\n",
    "    hour = seconds // 3600\n",
    "    seconds %= 3600\n",
    "    minutes = seconds // 60\n",
    "    seconds %= 60\n",
    "     \n",
    "    return \"%d:%02d:%02d\" % (hour, minutes, seconds)\n",
    "     \n",
    "n = 12780\n",
    "print(convert(n))"
   ]
  },
  {
   "cell_type": "markdown",
   "id": "6b52e486-ab9a-4985-ae30-cefc64f47af1",
   "metadata": {},
   "source": [
    "Objectives:\n",
    "1. Wake up\n",
    "2. Eat breakfast\n",
    "3. Workout\n",
    "4. Shower\n",
    "5. Get ready for work"
   ]
  },
  {
   "cell_type": "markdown",
   "id": "126b340b-77fb-4dbd-8d32-0526d4763532",
   "metadata": {},
   "source": [
    "Author: Brian T"
   ]
  },
  {
   "cell_type": "code",
   "execution_count": null,
   "id": "47591239-abc4-43cd-8503-abbd14cca2e0",
   "metadata": {},
   "outputs": [],
   "source": []
  }
 ],
 "metadata": {
  "kernelspec": {
   "display_name": "Python",
   "language": "python",
   "name": "conda-env-python-py"
  },
  "language_info": {
   "codemirror_mode": {
    "name": "ipython",
    "version": 3
   },
   "file_extension": ".py",
   "mimetype": "text/x-python",
   "name": "python",
   "nbconvert_exporter": "python",
   "pygments_lexer": "ipython3",
   "version": "3.7.12"
  }
 },
 "nbformat": 4,
 "nbformat_minor": 5
}
